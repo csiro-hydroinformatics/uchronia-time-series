{
 "cells": [
  {
   "cell_type": "code",
   "execution_count": null,
   "id": "27183cc7",
   "metadata": {},
   "outputs": [],
   "source": []
  },
  {
   "cell_type": "code",
   "execution_count": null,
   "id": "interim-police",
   "metadata": {},
   "outputs": [],
   "source": [
    "from pathlib import Path\n",
    "import uchronia.data_set as uds\n",
    "from uchronia.sample_data import sample_data_dir\n",
    "import os\n",
    "\n",
    "## -----------------------------------------------------------------------------\n",
    "s = sample_data_dir()\n",
    "data_library_file = os.path.join(s, 'time_series_library.yaml')\n",
    "assert Path(data_library_file).exists()"
   ]
  },
  {
   "cell_type": "code",
   "execution_count": null,
   "id": "novel-rebecca",
   "metadata": {
    "lines_to_next_cell": 2
   },
   "outputs": [],
   "source": [
    "## -----------------------------------------------------------------------------\n",
    "data_library = uds.get_ensemble_dataset(data_library_file, '')\n",
    "data_ids = data_library.get_dataset_ids()\n",
    "data_ids\n",
    "\n",
    "## -----------------------------------------------------------------------------\n",
    "single_obs = data_library.get_dataset(\"var1_obs\")\n",
    "single_obs\n",
    "asXts = uds.as_xarray\n",
    "asXts(single_obs).plot()\n",
    "\n",
    "import uchronia.time_series as uts\n",
    "## -----------------------------------------------------------------------------\n",
    "stationIds =  data_library.sub_identifiers(\"var1_obs_collection\")\n",
    "print(stationIds)\n",
    "multiObs = data_library.get_dataset(\"var1_obs_collection\")\n",
    "\n",
    "multiObs\n",
    "\n",
    "multiObs = asXts(multiObs)\n",
    "multiObs.head()\n",
    "multiObs.plot()\n",
    "\n",
    "## -----------------------------------------------------------------------------\n",
    "uds.datasets_summaries(data_library)\n",
    "\n",
    "## -----------------------------------------------------------------------------\n",
    "fcasts = data_library.get_dataset(\"var2_fcast_ens\")\n",
    "fcasts\n",
    "# TODO: currently conversion ot xts is the default. Review:\n",
    "firstFcast = fcasts.get_item(1)\n",
    "firstFcast.head()\n",
    "firstFcast.plot()\n",
    "\n",
    "# -"
   ]
  },
  {
   "cell_type": "markdown",
   "id": "ae27f2f2",
   "metadata": {},
   "source": [
    "# Ensemble SWIFT model runs"
   ]
  },
  {
   "cell_type": "markdown",
   "id": "db4fb686",
   "metadata": {},
   "source": [
    "## About this document\n",
    "\n",
    "## Elaboration"
   ]
  },
  {
   "cell_type": "code",
   "execution_count": null,
   "id": "42aec319",
   "metadata": {},
   "outputs": [],
   "source": [
    "import pandas as pd\n",
    "import numpy as np\n",
    "import xarray as xr"
   ]
  },
  {
   "cell_type": "code",
   "execution_count": null,
   "id": "53cb5412",
   "metadata": {},
   "outputs": [],
   "source": [
    "## -----------------------------------------------------------------------------\n",
    "import matplotlib.pyplot as plt"
   ]
  },
  {
   "cell_type": "code",
   "execution_count": null,
   "id": "8c2ec003",
   "metadata": {},
   "outputs": [],
   "source": [
    "%matplotlib inline"
   ]
  },
  {
   "cell_type": "markdown",
   "id": "8a03a57d",
   "metadata": {},
   "source": [
    "the package `uchronia` includes facilities to access time series from a \"library\", akin to what you would do to manage books."
   ]
  },
  {
   "cell_type": "code",
   "execution_count": null,
   "id": "d5485f2d",
   "metadata": {},
   "outputs": [],
   "source": [
    "import uchronia.sample_data as usd"
   ]
  },
  {
   "cell_type": "code",
   "execution_count": null,
   "id": "46c6a1e5",
   "metadata": {},
   "outputs": [],
   "source": [
    "doc_data_path = usd.sample_data_dir()\n",
    "data_path = os.path.join(doc_data_path, 'UpperMurray')\n",
    "data_path"
   ]
  },
  {
   "cell_type": "code",
   "execution_count": null,
   "id": "d2705195-1929-4749-b04a-ce9b804e44e1",
   "metadata": {},
   "outputs": [],
   "source": []
  },
  {
   "cell_type": "code",
   "execution_count": null,
   "id": "fdc175a3",
   "metadata": {},
   "outputs": [],
   "source": [
    "data_library = usd.sample_time_series_library('upper murray')"
   ]
  },
  {
   "cell_type": "code",
   "execution_count": null,
   "id": "9f8d4d53",
   "metadata": {},
   "outputs": [],
   "source": [
    "data_library"
   ]
  },
  {
   "cell_type": "code",
   "execution_count": null,
   "id": "51056ec3-9b7c-4970-b1c0-543392768358",
   "metadata": {},
   "outputs": [],
   "source": [
    "data_ids = data_library.get_dataset_ids()"
   ]
  },
  {
   "cell_type": "code",
   "execution_count": null,
   "id": "857b1cd5-e000-4a62-b07f-057f6fa7dab3",
   "metadata": {},
   "outputs": [],
   "source": [
    "data_ids"
   ]
  },
  {
   "cell_type": "code",
   "execution_count": null,
   "id": "4ffccdae",
   "metadata": {},
   "outputs": [],
   "source": [
    "data_library.datasets_summaries()\n",
    "# 'rain_obs'\n",
    "# 'pet_obs'"
   ]
  },
  {
   "cell_type": "code",
   "execution_count": null,
   "id": "1d533337-fbcf-4aa6-bc70-6b5791ebd8fb",
   "metadata": {},
   "outputs": [],
   "source": [
    "x = data_library.get_dataset('rain_obs')"
   ]
  },
  {
   "cell_type": "code",
   "execution_count": null,
   "id": "76e6ef3a-3dea-4080-9aaa-5c6d11bc4f4f",
   "metadata": {},
   "outputs": [],
   "source": [
    "b = uts.as_xarray(x);"
   ]
  },
  {
   "cell_type": "code",
   "execution_count": null,
   "id": "62a10c97-0a1a-4dc4-bd10-0bf0f6eb327c",
   "metadata": {},
   "outputs": [],
   "source": [
    "def _is_positive(x): return x > 0\n",
    "# b[_is_negative(b)]"
   ]
  },
  {
   "cell_type": "code",
   "execution_count": null,
   "id": "be537422-5208-4e5d-b065-094e772b1abd",
   "metadata": {},
   "outputs": [],
   "source": [
    "b.where(lambda arr: _is_positive(arr), np.nan).plot()"
   ]
  },
  {
   "cell_type": "code",
   "execution_count": null,
   "id": "b33b8d85",
   "metadata": {},
   "outputs": [],
   "source": [
    "from cinterop.cffi.marshal import as_timestamp"
   ]
  },
  {
   "cell_type": "markdown",
   "id": "20c60a33",
   "metadata": {},
   "source": [
    "First, before demonstrating ensemble forecasting simulations, let's demonstrate how we can get a snapshot of the model states at a point in time and restore it later on, hot-starting further simulation."
   ]
  },
  {
   "cell_type": "code",
   "execution_count": null,
   "id": "9adbd1f8-8cae-43d6-b4ef-46f3ffef288e",
   "metadata": {},
   "outputs": [],
   "source": [
    "ens_rain = data_library.get_dataset('rain_fcast_ens')"
   ]
  },
  {
   "cell_type": "code",
   "execution_count": null,
   "id": "dc222245-944e-437d-8071-12e14d7f826b",
   "metadata": {},
   "outputs": [],
   "source": [
    "one_forecast = ens_rain.get_item(1)"
   ]
  },
  {
   "cell_type": "code",
   "execution_count": null,
   "id": "fcb58453-8bca-47da-b017-cd60d1040ad1",
   "metadata": {},
   "outputs": [],
   "source": [
    "one_forecast"
   ]
  },
  {
   "cell_type": "code",
   "execution_count": null,
   "id": "5aca2d06",
   "metadata": {},
   "outputs": [],
   "source": [
    "q = one_forecast.quantile([0.05, .25, .5, .75, 0.95], 'ensemble')"
   ]
  },
  {
   "cell_type": "code",
   "execution_count": null,
   "id": "a981cd05",
   "metadata": {},
   "outputs": [],
   "source": [
    "fig, ax = plt.subplots(figsize=(16,9))\n",
    "ax.fill_between(q.time.values, q.sel(quantile=0.05), q.sel(quantile=0.95), alpha=0.3, label='Perc. 50-95')\n",
    "ax.fill_between(q.time.values, q.sel(quantile=0.25), q.sel(quantile=.75), alpha=0.5, label='Perc. 25-75')\n",
    "ax._get_lines.get_next_color()  # Hack to get different line\n",
    "ax.plot(q.time.values, q.sel(quantile=.5), linewidth=2, label='Median')\n",
    "ax.legend()\n",
    "plt.show()"
   ]
  },
  {
   "cell_type": "code",
   "execution_count": null,
   "id": "bfb4a8f0",
   "metadata": {},
   "outputs": [],
   "source": []
  },
  {
   "cell_type": "code",
   "execution_count": null,
   "id": "200ff81a",
   "metadata": {
    "lines_to_next_cell": 2
   },
   "outputs": [],
   "source": [
    "\n",
    "\n",
    "\n"
   ]
  }
 ],
 "metadata": {
  "jupytext": {
   "formats": "ipynb,py:percent"
  },
  "kernelspec": {
   "display_name": "HFC",
   "language": "python",
   "name": "hydrofc"
  },
  "language_info": {
   "codemirror_mode": {
    "name": "ipython",
    "version": 3
   },
   "file_extension": ".py",
   "mimetype": "text/x-python",
   "name": "python",
   "nbconvert_exporter": "python",
   "pygments_lexer": "ipython3",
   "version": "3.9.13"
  }
 },
 "nbformat": 4,
 "nbformat_minor": 5
}
