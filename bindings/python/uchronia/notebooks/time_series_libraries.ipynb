{
 "cells": [
  {
   "cell_type": "code",
   "execution_count": null,
   "id": "interim-police",
   "metadata": {},
   "outputs": [],
   "source": [
    "from uchronia.wrap.uchronia_wrap_generated import *"
   ]
  },
  {
   "cell_type": "code",
   "execution_count": null,
   "id": "novel-rebecca",
   "metadata": {},
   "outputs": [],
   "source": [
    "import os\n",
    "\n",
    "## -----------------------------------------------------------------------------\n",
    "sampleDataDir = \"/home/per202/data/documentation\"\n",
    "dataLibraryFile = os.path.join(sampleDataDir, 'time_series_library.yaml')"
   ]
  },
  {
   "cell_type": "code",
   "execution_count": null,
   "id": "acquired-norway",
   "metadata": {},
   "outputs": [],
   "source": [
    "## -----------------------------------------------------------------------------\n",
    "dataLibrary = LoadEnsembleDataset_py(dataLibraryFile, '')\n",
    "dataIds = GetEnsembleDatasetDataIdentifiers_py(dataLibrary)\n",
    "dataIds\n"
   ]
  },
  {
   "cell_type": "code",
   "execution_count": null,
   "id": "necessary-galaxy",
   "metadata": {},
   "outputs": [],
   "source": [
    "def getDataSet(dataLibrary, dataIdentifier):\n",
    "    desc = GetDataDimensionsDescription_py(dataLibrary, dataIdentifier)\n",
    "    dimensions = len(desc)\n",
    "    if dimensions == 1:\n",
    "        return GetDatasetSingleTimeSeries_py(dataLibrary, dataIdentifier)\n",
    "    if dimensions == 2:\n",
    "        return GetDatasetEnsembleTimeSeries_py(dataLibrary, dataIdentifier)\n",
    "    if dimensions == 3:\n",
    "        return GetDatasetEnsembleForecastTimeSeries_py(dataLibrary, dataIdentifier)\n",
    "    else:\n",
    "        raise KeyError(\"Number of dimensions for a data set is not supported: \" + str(dimensions))\n"
   ]
  },
  {
   "cell_type": "code",
   "execution_count": null,
   "id": "social-capitol",
   "metadata": {},
   "outputs": [],
   "source": [
    "singleObs = getDataSet(dataLibrary, \"var1_obs\")"
   ]
  },
  {
   "cell_type": "code",
   "execution_count": null,
   "id": "communist-surface",
   "metadata": {},
   "outputs": [],
   "source": [
    "singleObs"
   ]
  },
  {
   "cell_type": "code",
   "execution_count": null,
   "id": "military-rocket",
   "metadata": {},
   "outputs": [],
   "source": [
    "stationIds = GetEnsembleDatasetDataSubIdentifiers_py(dataLibrary, \"var1_obs_collection\")\n",
    "print(stationIds)"
   ]
  },
  {
   "cell_type": "code",
   "execution_count": null,
   "id": "speaking-framing",
   "metadata": {},
   "outputs": [],
   "source": [
    "ToStructSingleTimeSeriesData_py(singleObs)"
   ]
  },
  {
   "cell_type": "code",
   "execution_count": null,
   "id": "legal-potter",
   "metadata": {},
   "outputs": [],
   "source": [
    "singleObs"
   ]
  },
  {
   "cell_type": "code",
   "execution_count": null,
   "id": "minus-local",
   "metadata": {},
   "outputs": [],
   "source": [
    "ToStructSingleTimeSeriesData_py(singleObs)"
   ]
  },
  {
   "cell_type": "code",
   "execution_count": null,
   "id": "hybrid-salad",
   "metadata": {},
   "outputs": [],
   "source": [
    "multiObs = getDataSet(dataLibrary, \"var1_obs_collection\")\n",
    "multiObs\n"
   ]
  },
  {
   "cell_type": "code",
   "execution_count": null,
   "id": "personalized-arlington",
   "metadata": {},
   "outputs": [],
   "source": [
    "ToStructEnsembleTimeSeriesData_py(multiObs)"
   ]
  },
  {
   "cell_type": "code",
   "execution_count": null,
   "id": "immune-hands",
   "metadata": {},
   "outputs": [],
   "source": []
  }
 ],
 "metadata": {
  "kernelspec": {
   "display_name": "Py3 WAA",
   "language": "python",
   "name": "waa"
  },
  "language_info": {
   "codemirror_mode": {
    "name": "ipython",
    "version": 3
   },
   "file_extension": ".py",
   "mimetype": "text/x-python",
   "name": "python",
   "nbconvert_exporter": "python",
   "pygments_lexer": "ipython3",
   "version": "3.8.6"
  }
 },
 "nbformat": 4,
 "nbformat_minor": 5
}
