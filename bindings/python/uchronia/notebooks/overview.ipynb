{
 "cells": [
  {
   "cell_type": "markdown",
   "id": "6b55aa9d-7349-43c5-b80c-91f9836855bd",
   "metadata": {},
   "source": [
    "\n",
    "# Introduction\n",
    "\n",
    "`uchronia` is a package to handle time series of varying geometry and dimensionality, using a C++ library for efficient handling \"under the hood\", but with conversion to `xarray` time series in Python when suitable. The `uchronia` Python package also has siblings in R and MATLAB.\n",
    "\n",
    "# Creating multidimensional time series\n",
    "\n",
    "\n"
   ]
  },
  {
   "cell_type": "code",
   "execution_count": null,
   "id": "71ab3bb8",
   "metadata": {},
   "outputs": [],
   "source": [
    "from pathlib import Path\n",
    "import uchronia.data_set as uds\n",
    "from uchronia.sample_data import sample_data_dir\n",
    "import os"
   ]
  },
  {
   "cell_type": "code",
   "execution_count": null,
   "id": "d1528767",
   "metadata": {},
   "outputs": [],
   "source": [
    "## -----------------------------------------------------------------------------\n",
    "s = sample_data_dir()\n",
    "data_library_file = os.path.join(s, 'time_series_library.yaml')\n",
    "assert Path(data_library_file).exists()"
   ]
  },
  {
   "cell_type": "code",
   "execution_count": null,
   "id": "cf9a3d9c",
   "metadata": {},
   "outputs": [],
   "source": [
    "## -----------------------------------------------------------------------------\n",
    "data_library = uds.get_ensemble_dataset(data_library_file, '')\n",
    "data_ids = data_library.get_dataset_ids()\n",
    "data_ids"
   ]
  },
  {
   "cell_type": "code",
   "execution_count": null,
   "id": "a8064c32",
   "metadata": {},
   "outputs": [],
   "source": [
    "single_obs = data_library.get_dataset(\"var1_obs\")"
   ]
  },
  {
   "cell_type": "code",
   "execution_count": null,
   "id": "5807e6cf",
   "metadata": {},
   "outputs": [],
   "source": [
    "single_obs"
   ]
  },
  {
   "cell_type": "code",
   "execution_count": null,
   "id": "84a65389",
   "metadata": {},
   "outputs": [],
   "source": [
    "uds.as_xarray(single_obs)"
   ]
  },
  {
   "cell_type": "code",
   "execution_count": null,
   "id": "f73298a4",
   "metadata": {},
   "outputs": [],
   "source": [
    "single_obs"
   ]
  },
  {
   "cell_type": "code",
   "execution_count": null,
   "id": "aa471326",
   "metadata": {},
   "outputs": [],
   "source": [
    "uds.as_xarray(single_obs)"
   ]
  },
  {
   "cell_type": "code",
   "execution_count": null,
   "id": "28870a45",
   "metadata": {
    "lines_to_next_cell": 2
   },
   "outputs": [],
   "source": [
    "multi_obs = data_library.get_dataset(\"var1_obs_collection\")\n",
    "multi_obs"
   ]
  },
  {
   "cell_type": "code",
   "execution_count": null,
   "id": "a80c5254",
   "metadata": {},
   "outputs": [],
   "source": [
    "station_ids = data_library.sub_identifiers(\"var1_obs_collection\")\n",
    "print(station_ids)"
   ]
  },
  {
   "cell_type": "code",
   "execution_count": null,
   "id": "7d44939d",
   "metadata": {
    "lines_to_next_cell": 2
   },
   "outputs": [],
   "source": [
    "uds.as_xarray(multi_obs)\n",
    "\n",
    "\n",
    "\n",
    "\n"
   ]
  }
 ],
 "metadata": {
  "jupytext": {
   "formats": "py:percent,ipynb:percent"
  },
  "kernelspec": {
   "display_name": "HFC",
   "language": "python",
   "name": "hydrofc"
  },
  "language_info": {
   "codemirror_mode": {
    "name": "ipython",
    "version": 3
   },
   "file_extension": ".py",
   "mimetype": "text/x-python",
   "name": "python",
   "nbconvert_exporter": "python",
   "pygments_lexer": "ipython3",
   "version": "3.9.13"
  }
 },
 "nbformat": 4,
 "nbformat_minor": 5
}
